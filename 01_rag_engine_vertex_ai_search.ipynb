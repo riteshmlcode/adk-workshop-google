{
  "cells": [
    {
      "cell_type": "markdown",
      "metadata": {},
      "source": [
        "# Rag Engine"
      ]
    },
    {
      "cell_type": "markdown",
      "metadata": {},
      "source": [
        "<span style=\"color:red\">**YOU NEED TO UPDATE YOUR PROJECT_ID AND LOCATION**</span>"
      ]
    },
    {
      "cell_type": "code",
      "execution_count": 2,
      "metadata": {
        "id": "Nqwi-5ufWp_B"
      },
      "outputs": [],
      "source": [
        "import os\n",
        "from google.api_core.client_options import ClientOptions\n",
        "from google.cloud import discoveryengine\n",
        "from vertexai.preview import rag\n",
        "import vertexai\n",
        "\n",
        "PROJECT_ID = \"hello-world-418507\"\n",
        "LOCATION = \"us-central1\"\n",
        "VERTEX_AI_SEARCH_LOCATION = \"global\"\n",
        "vertexai.init(project=PROJECT_ID, location=LOCATION)"
      ]
    },
    {
      "cell_type": "markdown",
      "metadata": {},
      "source": [
        "## Configuration"
      ]
    },
    {
      "cell_type": "markdown",
      "metadata": {},
      "source": [
        "- Create a new Cloud Storage bucket with PDF.\n",
        "- Datastore name MUST BE LOWERCASE"
      ]
    },
    {
      "cell_type": "code",
      "execution_count": 7,
      "metadata": {},
      "outputs": [],
      "source": [
        "# The datastore name can only contain lowercase letters, numbers, and hyphens\n",
        "DATASTORE_NAME = \"2025-adk-workshop-policy-tobedeleted\"\n",
        "DATASTORE_ID = f\"{DATASTORE_NAME}-id\"\n",
        "\n",
        "GCS_BUCKET = \"gs://2025-adk-workshop-policy\"\n"
      ]
    },
    {
      "cell_type": "markdown",
      "metadata": {},
      "source": [
        "# Part 1 - Datastore (Run once only)"
      ]
    },
    {
      "cell_type": "markdown",
      "metadata": {
        "id": "kfkQMK1yBnN6"
      },
      "source": [
        "### Create and Populate a Datastore\n",
        "\n",
        "RAG is not supported for the Vertex AI Search DataStore with 'chunking config'."
      ]
    },
    {
      "cell_type": "code",
      "execution_count": 8,
      "metadata": {
        "id": "MwUPv8h5BqEJ"
      },
      "outputs": [],
      "source": [
        "def create_data_store(\n",
        "    project_id: str, location: str, data_store_name: str, data_store_id: str\n",
        "):\n",
        "    # Create a client\n",
        "    client_options = (\n",
        "        ClientOptions(api_endpoint=f\"{location}-discoveryengine.googleapis.com\")\n",
        "        if location != \"global\"\n",
        "        else None\n",
        "    )\n",
        "    client = discoveryengine.DataStoreServiceClient(client_options=client_options)\n",
        "\n",
        "    # Initialize request argument(s)\n",
        "    data_store = discoveryengine.DataStore(\n",
        "        display_name=data_store_name,\n",
        "        industry_vertical=discoveryengine.IndustryVertical.GENERIC,\n",
        "        content_config=discoveryengine.DataStore.ContentConfig.CONTENT_REQUIRED,\n",
        "    )\n",
        "\n",
        "    operation = client.create_data_store(\n",
        "        request=discoveryengine.CreateDataStoreRequest(\n",
        "            parent=client.collection_path(project_id, location, \"default_collection\"),\n",
        "            data_store=data_store,\n",
        "            data_store_id=data_store_id,\n",
        "        )\n",
        "    )\n",
        "\n",
        "    # Make the request\n",
        "    response = operation.result(timeout=90)\n",
        "    return response.name"
      ]
    },
    {
      "cell_type": "code",
      "execution_count": 9,
      "metadata": {
        "id": "jRMWKUJXBwhu"
      },
      "outputs": [],
      "source": [
        "def import_documents(\n",
        "    project_id: str,\n",
        "    location: str,\n",
        "    data_store_id: str,\n",
        "    gcs_uri: str, # Bucket path\n",
        "):\n",
        "    # Create a client\n",
        "    client_options = (\n",
        "        ClientOptions(api_endpoint=f\"{location}-discoveryengine.googleapis.com\")\n",
        "        if location != \"global\"\n",
        "        else None\n",
        "    )\n",
        "    client = discoveryengine.DocumentServiceClient(client_options=client_options)\n",
        "\n",
        "    # The full resource name of the search engine branch.\n",
        "    # e.g. projects/{project}/locations/{location}/dataStores/{data_store_id}/branches/{branch}\n",
        "    parent = client.branch_path(\n",
        "        project=project_id,\n",
        "        location=location,\n",
        "        data_store=data_store_id,\n",
        "        branch=\"default_branch\",\n",
        "    )\n",
        "\n",
        "    source_documents = [f\"{gcs_uri}/*\"]\n",
        "\n",
        "    request = discoveryengine.ImportDocumentsRequest(\n",
        "        parent=parent,\n",
        "        gcs_source=discoveryengine.GcsSource(\n",
        "            input_uris=source_documents, data_schema=\"content\"\n",
        "        ),\n",
        "        # Options: `FULL`, `INCREMENTAL`\n",
        "        reconciliation_mode=discoveryengine.ImportDocumentsRequest.ReconciliationMode.INCREMENTAL,\n",
        "    )\n",
        "\n",
        "    # Make the request\n",
        "    operation = client.import_documents(request=request)\n",
        "\n",
        "    response = operation.result()\n",
        "\n",
        "    # Once the operation is complete,\n",
        "    # get information from operation metadata\n",
        "    metadata = discoveryengine.ImportDocumentsMetadata(operation.metadata)\n",
        "\n",
        "    # Handle the response\n",
        "    return operation.operation.name"
      ]
    },
    {
      "cell_type": "code",
      "execution_count": 10,
      "metadata": {},
      "outputs": [
        {
          "data": {
            "text/plain": [
              "'projects/671247654914/locations/global/collections/default_collection/dataStores/2025-adk-workshop-policy-tobedeleted-id'"
            ]
          },
          "execution_count": 10,
          "metadata": {},
          "output_type": "execute_result"
        }
      ],
      "source": [
        "create_data_store(PROJECT_ID, VERTEX_AI_SEARCH_LOCATION, DATASTORE_NAME, DATASTORE_ID)"
      ]
    },
    {
      "cell_type": "markdown",
      "metadata": {},
      "source": [
        "Next is to import the Cloud Storage document, this steps takes about 10 minutes."
      ]
    },
    {
      "cell_type": "code",
      "execution_count": 11,
      "metadata": {
        "id": "fJlFkhe7BznS"
      },
      "outputs": [
        {
          "data": {
            "text/plain": [
              "'projects/671247654914/locations/global/collections/default_collection/dataStores/2025-adk-workshop-policy-tobedeleted-id/branches/0/operations/import-documents-6174108388888858925'"
            ]
          },
          "execution_count": 11,
          "metadata": {},
          "output_type": "execute_result"
        }
      ],
      "source": [
        "import_documents(PROJECT_ID, VERTEX_AI_SEARCH_LOCATION, DATASTORE_ID, GCS_BUCKET)"
      ]
    },
    {
      "cell_type": "markdown",
      "metadata": {
        "id": "gvrbLtDj6zCv"
      },
      "source": [
        "## Part 2 - Create a Search Engine (Run once only)"
      ]
    },
    {
      "cell_type": "code",
      "execution_count": 12,
      "metadata": {
        "id": "GHaRWVvZ6vOc"
      },
      "outputs": [],
      "source": [
        "def create_engine(\n",
        "    project_id: str, location: str, engine_name: str, engine_id: str, data_store_id: str\n",
        "):\n",
        "    # Create a client\n",
        "    client_options = (\n",
        "        ClientOptions(api_endpoint=f\"{location}-discoveryengine.googleapis.com\")\n",
        "        if location != \"global\"\n",
        "        else None\n",
        "    )\n",
        "    client = discoveryengine.EngineServiceClient(client_options=client_options)\n",
        "\n",
        "    # Initialize request argument(s)\n",
        "    engine = discoveryengine.Engine(\n",
        "        display_name=engine_name,\n",
        "        solution_type=discoveryengine.SolutionType.SOLUTION_TYPE_SEARCH,\n",
        "        industry_vertical=discoveryengine.IndustryVertical.GENERIC,\n",
        "        data_store_ids=[data_store_id],\n",
        "        search_engine_config=discoveryengine.Engine.SearchEngineConfig(\n",
        "            search_tier=discoveryengine.SearchTier.SEARCH_TIER_ENTERPRISE,\n",
        "        ),\n",
        "    )\n",
        "    print(engine.display_name)\n",
        "\n",
        "    request = discoveryengine.CreateEngineRequest(\n",
        "        parent=client.collection_path(project_id, location, \"default_collection\"),\n",
        "        engine=engine,\n",
        "        engine_id=engine_id,\n",
        "    )\n",
        "\n",
        "    # Make the request\n",
        "    operation = client.create_engine(request=request)\n",
        "    response = operation.result(timeout=90)\n",
        "    return response.name"
      ]
    },
    {
      "cell_type": "code",
      "execution_count": 13,
      "metadata": {},
      "outputs": [
        {
          "data": {
            "text/plain": [
              "('2025-adk-workshop-policy-tobedeleted',\n",
              " '2025-adk-workshop-policy-tobedeleted-id')"
            ]
          },
          "execution_count": 13,
          "metadata": {},
          "output_type": "execute_result"
        }
      ],
      "source": [
        "DATASTORE_NAME, DATASTORE_ID"
      ]
    },
    {
      "cell_type": "code",
      "execution_count": 14,
      "metadata": {
        "id": "6Z21T3Pm8ngv"
      },
      "outputs": [
        {
          "name": "stdout",
          "output_type": "stream",
          "text": [
            "2025-adk-workshop-policy-tobedeleted-engine\n"
          ]
        },
        {
          "data": {
            "text/plain": [
              "'projects/671247654914/locations/global/collections/default_collection/engines/2025-adk-workshop-policy-tobedeleted-id-engine'"
            ]
          },
          "execution_count": 14,
          "metadata": {},
          "output_type": "execute_result"
        }
      ],
      "source": [
        "ENGINE_NAME = DATASTORE_NAME + \"-engine\"\n",
        "ENGINE_ID = DATASTORE_ID + \"-engine\"\n",
        "\n",
        "response = create_engine(\n",
        "    project_id=PROJECT_ID,\n",
        "    location=VERTEX_AI_SEARCH_LOCATION,\n",
        "    engine_name=ENGINE_NAME,\n",
        "    engine_id=ENGINE_ID,\n",
        "    data_store_id=DATASTORE_ID,\n",
        ")\n",
        "\n",
        "response"
      ]
    },
    {
      "cell_type": "markdown",
      "metadata": {
        "id": "EdvJRUWRNGHE"
      },
      "source": [
        "## Part 3 - Create corpus (Run only once)"
      ]
    },
    {
      "cell_type": "code",
      "execution_count": 15,
      "metadata": {
        "id": "6fc324893334"
      },
      "outputs": [],
      "source": [
        "from vertexai.preview import rag"
      ]
    },
    {
      "cell_type": "code",
      "execution_count": 16,
      "metadata": {},
      "outputs": [
        {
          "data": {
            "text/plain": [
              "('global',\n",
              " '2025-adk-workshop-policy-tobedeleted-engine',\n",
              " '2025-adk-workshop-policy-tobedeleted-id-engine')"
            ]
          },
          "execution_count": 16,
          "metadata": {},
          "output_type": "execute_result"
        }
      ],
      "source": [
        "VERTEX_AI_SEARCH_LOCATION, ENGINE_NAME, ENGINE_ID"
      ]
    },
    {
      "cell_type": "code",
      "execution_count": 17,
      "metadata": {
        "id": "cf93d5f0ce00"
      },
      "outputs": [
        {
          "name": "stdout",
          "output_type": "stream",
          "text": [
            "projects/hello-world-418507/locations/global/collections/default_collection/engines/2025-adk-workshop-policy-tobedeleted-id-engine/servingConfigs/default_search\n"
          ]
        }
      ],
      "source": [
        "\"\"\"\n",
        "Format:\n",
        "    ``projects/{project}/locations/{location}/collections/{collection}/engines/{engine_id}/servingConfigs/{serving_config}``\n",
        "or\n",
        "    ``projects/{project}/locations/{location}/collections/{collection}/dataStores/{data_store_id}/servingConfigs/{serving_config}``\n",
        "\"\"\"\n",
        "\n",
        "config = f\"projects/{PROJECT_ID}/locations/{VERTEX_AI_SEARCH_LOCATION}/collections/default_collection/engines/{ENGINE_ID}/servingConfigs/default_search\"\n",
        "print(config)\n",
        "\n",
        "vertex_ai_search_config = rag.VertexAiSearchConfig(\n",
        "    serving_config=config,\n",
        ")\n"
      ]
    },
    {
      "cell_type": "code",
      "execution_count": 18,
      "metadata": {},
      "outputs": [],
      "source": [
        "rag_corpus = rag.create_corpus(\n",
        "    display_name=ENGINE_NAME,\n",
        "    vertex_ai_search_config=vertex_ai_search_config,\n",
        ")\n"
      ]
    },
    {
      "cell_type": "code",
      "execution_count": 19,
      "metadata": {},
      "outputs": [
        {
          "name": "stdout",
          "output_type": "stream",
          "text": [
            "projects/671247654914/locations/us-central1/ragCorpora/3054003497310617600\n"
          ]
        }
      ],
      "source": [
        "print(rag_corpus.name)"
      ]
    },
    {
      "cell_type": "code",
      "execution_count": 20,
      "metadata": {
        "id": "2834a2721633"
      },
      "outputs": [
        {
          "data": {
            "text/plain": [
              "RagCorpus(name='projects/671247654914/locations/us-central1/ragCorpora/3054003497310617600', display_name='2025-adk-workshop-policy-tobedeleted-engine', description='', embedding_model_config=EmbeddingModelConfig(publisher_model=None, endpoint=None, model=None, model_version_id=None), vector_db=None, vertex_ai_search_config=VertexAiSearchConfig(serving_config='projects/hello-world-418507/locations/global/collections/default_collection/engines/2025-adk-workshop-policy-tobedeleted-id-engine/servingConfigs/default_search'), backend_config=RagVectorDbConfig(vector_db=None, rag_embedding_model_config=None))"
            ]
          },
          "execution_count": 20,
          "metadata": {},
          "output_type": "execute_result"
        }
      ],
      "source": [
        "# Check the corpus just created\n",
        "new_corpus = rag.get_corpus(name=rag_corpus.name)\n",
        "new_corpus"
      ]
    },
    {
      "cell_type": "markdown",
      "metadata": {},
      "source": [
        "## List corpora"
      ]
    },
    {
      "cell_type": "code",
      "execution_count": 21,
      "metadata": {},
      "outputs": [
        {
          "data": {
            "text/plain": [
              "ListRagCorporaPager<rag_corpora {\n",
              "  name: \"projects/hello-world-418507/locations/us-central1/ragCorpora/1113515007867355136\"\n",
              "  display_name: \"2025-test-datastore-name-engine\"\n",
              "  create_time {\n",
              "    seconds: 1742560106\n",
              "    nanos: 86801000\n",
              "  }\n",
              "  update_time {\n",
              "    seconds: 1742560106\n",
              "    nanos: 86801000\n",
              "  }\n",
              "  corpus_status {\n",
              "    state: ACTIVE\n",
              "  }\n",
              "  vertex_ai_search_config {\n",
              "    serving_config: \"projects/hello-world-418507/locations/global/collections/default_collection/engines/2025-test-datastore-name-id-engine/servingConfigs/default_search\"\n",
              "  }\n",
              "}\n",
              "rag_corpora {\n",
              "  name: \"projects/hello-world-418507/locations/us-central1/ragCorpora/713820540938223616\"\n",
              "  display_name: \"Alphabet_10K_2024_corpus\"\n",
              "  description: \"Corpus containing Alphabet\\'s 10-K 2024 document\"\n",
              "  create_time {\n",
              "    seconds: 1744590438\n",
              "    nanos: 956266000\n",
              "  }\n",
              "  update_time {\n",
              "    seconds: 1744590438\n",
              "    nanos: 956266000\n",
              "  }\n",
              "  rag_embedding_model_config {\n",
              "    vertex_prediction_endpoint {\n",
              "      endpoint: \"projects/hello-world-418507/locations/us-central1/publishers/google/models/text-embedding-004\"\n",
              "    }\n",
              "  }\n",
              "  rag_vector_db_config {\n",
              "    rag_managed_db {\n",
              "    }\n",
              "    rag_embedding_model_config {\n",
              "      vertex_prediction_endpoint {\n",
              "        endpoint: \"projects/hello-world-418507/locations/us-central1/publishers/google/models/text-embedding-004\"\n",
              "      }\n",
              "    }\n",
              "  }\n",
              "  corpus_status {\n",
              "    state: ACTIVE\n",
              "  }\n",
              "  vector_db_config {\n",
              "    rag_managed_db {\n",
              "    }\n",
              "    rag_embedding_model_config {\n",
              "      vertex_prediction_endpoint {\n",
              "        endpoint: \"projects/hello-world-418507/locations/us-central1/publishers/google/models/text-embedding-004\"\n",
              "      }\n",
              "    }\n",
              "  }\n",
              "  rag_files_count: 1\n",
              "}\n",
              "rag_corpora {\n",
              "  name: \"projects/hello-world-418507/locations/us-central1/ragCorpora/3054003497310617600\"\n",
              "  display_name: \"2025-adk-workshop-policy-tobedeleted-engine\"\n",
              "  create_time {\n",
              "    seconds: 1746602040\n",
              "    nanos: 531441000\n",
              "  }\n",
              "  update_time {\n",
              "    seconds: 1746602040\n",
              "    nanos: 531441000\n",
              "  }\n",
              "  corpus_status {\n",
              "    state: ACTIVE\n",
              "  }\n",
              "  vertex_ai_search_config {\n",
              "    serving_config: \"projects/hello-world-418507/locations/global/collections/default_collection/engines/2025-adk-workshop-policy-tobedeleted-id-engine/servingConfigs/default_search\"\n",
              "  }\n",
              "}\n",
              ">"
            ]
          },
          "execution_count": 21,
          "metadata": {},
          "output_type": "execute_result"
        }
      ],
      "source": [
        "rag.list_corpora()"
      ]
    },
    {
      "cell_type": "markdown",
      "metadata": {},
      "source": [
        "# Part 4 - Retrieval"
      ]
    },
    {
      "cell_type": "markdown",
      "metadata": {},
      "source": [
        "### Query with Rag Engine\n",
        "\n",
        "You can find the value for `CORPUS_NAME` from the previous cell `name` value.\n",
        "\n",
        "```json\n",
        "rag_corpora {\n",
        "  name: \"projects/hello-world-418507/locations/us-central1/ragCorpora/3054003497310617600\"\n",
        "  display_name: \"2025-adk-workshop-policy-tobedeleted-engine\"\n",
        "  create_time {\n",
        "    seconds: 1746602040\n",
        "    nanos: 531441000\n",
        "  }\n",
        "  update_time {\n",
        "    seconds: 1746602040\n",
        "    nanos: 531441000\n",
        "  }\n",
        "  corpus_status {\n",
        "    state: ACTIVE\n",
        "  }\n",
        "  vertex_ai_search_config {\n",
        "    serving_config: \"projects/hello-world-418507/locations/global/collections/default_collection/engines/2025-adk-workshop-policy-tobedeleted-id-engine/servingConfigs/default_search\"\n",
        "  }\n",
        "}\n",
        "```"
      ]
    },
    {
      "cell_type": "code",
      "execution_count": 29,
      "metadata": {},
      "outputs": [
        {
          "name": "stdout",
          "output_type": "stream",
          "text": [
            "RagResource(rag_corpus='projects/hello-world-418507/locations/us-central1/ragCorpora/3054003497310617600', rag_file_ids=None)\n",
            "contexts {\n",
            "  contexts {\n",
            "    source_uri: \"gs://2025-adk-workshop-policy/timeoff-policy.pdf\"\n",
            "    text: \"11. When can I start my maternity leave? A: The earliest you can start your leave is <b>28 days before your expected due date</b>. If your baby is premature, your maternity leave will begin on the day your baby is born. 12.\"\n",
            "    source_display_name: \"timeoff-policy\"\n",
            "  }\n",
            "  contexts {\n",
            "    source_uri: \"gs://2025-adk-workshop-policy/performance-policy.pdf\"\n",
            "    text: \"■ If the active period is substantial, a standard review might occur, focusing on that time.\"\n",
            "    source_display_name: \"performance-policy\"\n",
            "  }\n",
            "}\n",
            "\n"
          ]
        }
      ],
      "source": [
        "RETRIEVAL_QUERY = \"When can i start taking maternity leave?\"\n",
        "CORPUS_NAME = \"projects/hello-world-418507/locations/us-central1/ragCorpora/3054003497310617600\"\n",
        "\n",
        "rag_resource = rag.RagResource(rag_corpus=CORPUS_NAME)\n",
        "print(rag_resource)\n",
        "\n",
        "rag_retrieval_config = rag.RagRetrievalConfig(\n",
        "    top_k=5,  # Optional\n",
        "    filter=rag.Filter(\n",
        "        vector_distance_threshold=0.2,  # Optional\n",
        "    ),\n",
        ")\n",
        "\n",
        "response = rag.retrieval_query(\n",
        "    rag_resources=[rag_resource],  # Currently only 1 corpus is allowed.\n",
        "    text=RETRIEVAL_QUERY,\n",
        "    similarity_top_k=10,\n",
        "    # rag_retrieval_config=rag_retrieval_config\n",
        ")\n",
        "print(response)\n"
      ]
    },
    {
      "cell_type": "markdown",
      "metadata": {
        "id": "e1c1c7944dc8"
      },
      "source": [
        "## Query with Gemini\n"
      ]
    },
    {
      "cell_type": "code",
      "execution_count": 26,
      "metadata": {},
      "outputs": [],
      "source": [
        "from rich import print as rich_print\n",
        "from vertexai.preview import rag\n",
        "from google.genai.types import (\n",
        "    GenerateContentConfig,\n",
        "    VertexRagStore,\n",
        "    Retrieval,\n",
        "    Tool,\n",
        "    VertexAISearch,\n",
        ")\n",
        "from google import genai\n"
      ]
    },
    {
      "cell_type": "code",
      "execution_count": 30,
      "metadata": {},
      "outputs": [
        {
          "data": {
            "text/html": [
              "<pre style=\"white-space:pre;overflow-x:auto;line-height:normal;font-family:Menlo,'DejaVu Sans Mono',consolas,'Courier New',monospace\"><span style=\"color: #800080; text-decoration-color: #800080; font-weight: bold\">GenerateContentResponse</span><span style=\"font-weight: bold\">(</span>\n",
              "    <span style=\"color: #808000; text-decoration-color: #808000\">candidates</span>=<span style=\"font-weight: bold\">[</span>\n",
              "        <span style=\"color: #800080; text-decoration-color: #800080; font-weight: bold\">Candidate</span><span style=\"font-weight: bold\">(</span>\n",
              "            <span style=\"color: #808000; text-decoration-color: #808000\">content</span>=<span style=\"color: #800080; text-decoration-color: #800080; font-weight: bold\">Content</span><span style=\"font-weight: bold\">(</span>\n",
              "                <span style=\"color: #808000; text-decoration-color: #808000\">parts</span>=<span style=\"font-weight: bold\">[</span>\n",
              "                    <span style=\"color: #800080; text-decoration-color: #800080; font-weight: bold\">Part</span><span style=\"font-weight: bold\">(</span>\n",
              "                        <span style=\"color: #808000; text-decoration-color: #808000\">video_metadata</span>=<span style=\"color: #800080; text-decoration-color: #800080; font-style: italic\">None</span>,\n",
              "                        <span style=\"color: #808000; text-decoration-color: #808000\">thought</span>=<span style=\"color: #800080; text-decoration-color: #800080; font-style: italic\">None</span>,\n",
              "                        <span style=\"color: #808000; text-decoration-color: #808000\">code_execution_result</span>=<span style=\"color: #800080; text-decoration-color: #800080; font-style: italic\">None</span>,\n",
              "                        <span style=\"color: #808000; text-decoration-color: #808000\">executable_code</span>=<span style=\"color: #800080; text-decoration-color: #800080; font-style: italic\">None</span>,\n",
              "                        <span style=\"color: #808000; text-decoration-color: #808000\">file_data</span>=<span style=\"color: #800080; text-decoration-color: #800080; font-style: italic\">None</span>,\n",
              "                        <span style=\"color: #808000; text-decoration-color: #808000\">function_call</span>=<span style=\"color: #800080; text-decoration-color: #800080; font-style: italic\">None</span>,\n",
              "                        <span style=\"color: #808000; text-decoration-color: #808000\">function_response</span>=<span style=\"color: #800080; text-decoration-color: #800080; font-style: italic\">None</span>,\n",
              "                        <span style=\"color: #808000; text-decoration-color: #808000\">inline_data</span>=<span style=\"color: #800080; text-decoration-color: #800080; font-style: italic\">None</span>,\n",
              "                        <span style=\"color: #808000; text-decoration-color: #808000\">text</span>=<span style=\"color: #008000; text-decoration-color: #008000\">'You can start your maternity leave as early as 28 days before your expected due date.</span>\n",
              "<span style=\"color: #008000; text-decoration-color: #008000\">If your baby is premature, your maternity leave will begin on the day your baby is born.\\n'</span>\n",
              "                    <span style=\"font-weight: bold\">)</span>\n",
              "                <span style=\"font-weight: bold\">]</span>,\n",
              "                <span style=\"color: #808000; text-decoration-color: #808000\">role</span>=<span style=\"color: #008000; text-decoration-color: #008000\">'model'</span>\n",
              "            <span style=\"font-weight: bold\">)</span>,\n",
              "            <span style=\"color: #808000; text-decoration-color: #808000\">citation_metadata</span>=<span style=\"color: #800080; text-decoration-color: #800080; font-style: italic\">None</span>,\n",
              "            <span style=\"color: #808000; text-decoration-color: #808000\">finish_message</span>=<span style=\"color: #800080; text-decoration-color: #800080; font-style: italic\">None</span>,\n",
              "            <span style=\"color: #808000; text-decoration-color: #808000\">token_count</span>=<span style=\"color: #800080; text-decoration-color: #800080; font-style: italic\">None</span>,\n",
              "            <span style=\"color: #808000; text-decoration-color: #808000\">finish_reason</span>=<span style=\"font-weight: bold\">&lt;</span><span style=\"color: #ff00ff; text-decoration-color: #ff00ff; font-weight: bold\">FinishReason.STOP:</span><span style=\"color: #000000; text-decoration-color: #000000\"> </span><span style=\"color: #008000; text-decoration-color: #008000\">'STOP'</span><span style=\"color: #000000; text-decoration-color: #000000\">&gt;,</span>\n",
              "<span style=\"color: #000000; text-decoration-color: #000000\">            </span><span style=\"color: #808000; text-decoration-color: #808000\">avg_logprobs</span><span style=\"color: #000000; text-decoration-color: #000000\">=</span><span style=\"color: #008080; text-decoration-color: #008080; font-weight: bold\">-0.011928290892869998</span><span style=\"color: #000000; text-decoration-color: #000000\">,</span>\n",
              "<span style=\"color: #000000; text-decoration-color: #000000\">            </span><span style=\"color: #808000; text-decoration-color: #808000\">grounding_metadata</span><span style=\"color: #000000; text-decoration-color: #000000\">=</span><span style=\"color: #800080; text-decoration-color: #800080; font-weight: bold\">GroundingMetadata</span><span style=\"color: #000000; text-decoration-color: #000000; font-weight: bold\">(</span>\n",
              "<span style=\"color: #000000; text-decoration-color: #000000\">                </span><span style=\"color: #808000; text-decoration-color: #808000\">grounding_chunks</span><span style=\"color: #000000; text-decoration-color: #000000\">=</span><span style=\"color: #000000; text-decoration-color: #000000; font-weight: bold\">[</span>\n",
              "<span style=\"color: #000000; text-decoration-color: #000000\">                    </span><span style=\"color: #800080; text-decoration-color: #800080; font-weight: bold\">GroundingChunk</span><span style=\"color: #000000; text-decoration-color: #000000; font-weight: bold\">(</span>\n",
              "<span style=\"color: #000000; text-decoration-color: #000000\">                        </span><span style=\"color: #808000; text-decoration-color: #808000\">retrieved_context</span><span style=\"color: #000000; text-decoration-color: #000000\">=</span><span style=\"color: #800080; text-decoration-color: #800080; font-weight: bold\">GroundingChunkRetrievedContext</span><span style=\"color: #000000; text-decoration-color: #000000; font-weight: bold\">(</span>\n",
              "<span style=\"color: #000000; text-decoration-color: #000000\">                            </span><span style=\"color: #808000; text-decoration-color: #808000\">text</span><span style=\"color: #000000; text-decoration-color: #000000\">=</span><span style=\"color: #008000; text-decoration-color: #008000\">'11. When can I start my maternity leave? A: The earliest you can start your leave</span>\n",
              "<span style=\"color: #008000; text-decoration-color: #008000\">is &lt;b&gt;28 days before your expected due date&lt;/b&gt;. If your baby is premature, your maternity leave will begin on the </span>\n",
              "<span style=\"color: #008000; text-decoration-color: #008000\">day your baby is born. 12.'</span><span style=\"color: #000000; text-decoration-color: #000000\">,</span>\n",
              "<span style=\"color: #000000; text-decoration-color: #000000\">                            </span><span style=\"color: #808000; text-decoration-color: #808000\">title</span><span style=\"color: #000000; text-decoration-color: #000000\">=</span><span style=\"color: #008000; text-decoration-color: #008000\">'timeoff-policy'</span><span style=\"color: #000000; text-decoration-color: #000000\">,</span>\n",
              "<span style=\"color: #000000; text-decoration-color: #000000\">                            </span><span style=\"color: #808000; text-decoration-color: #808000\">uri</span><span style=\"color: #000000; text-decoration-color: #000000\">=</span><span style=\"color: #008000; text-decoration-color: #008000\">'gs://2025-adk-workshop-policy/timeoff-policy.pdf'</span>\n",
              "<span style=\"color: #000000; text-decoration-color: #000000\">                        </span><span style=\"color: #000000; text-decoration-color: #000000; font-weight: bold\">)</span><span style=\"color: #000000; text-decoration-color: #000000\">,</span>\n",
              "<span style=\"color: #000000; text-decoration-color: #000000\">                        </span><span style=\"color: #808000; text-decoration-color: #808000\">web</span><span style=\"color: #000000; text-decoration-color: #000000\">=</span><span style=\"color: #800080; text-decoration-color: #800080; font-style: italic\">None</span>\n",
              "<span style=\"color: #000000; text-decoration-color: #000000\">                    </span><span style=\"color: #000000; text-decoration-color: #000000; font-weight: bold\">)</span><span style=\"color: #000000; text-decoration-color: #000000\">,</span>\n",
              "<span style=\"color: #000000; text-decoration-color: #000000\">                    </span><span style=\"color: #800080; text-decoration-color: #800080; font-weight: bold\">GroundingChunk</span><span style=\"color: #000000; text-decoration-color: #000000; font-weight: bold\">(</span>\n",
              "<span style=\"color: #000000; text-decoration-color: #000000\">                        </span><span style=\"color: #808000; text-decoration-color: #808000\">retrieved_context</span><span style=\"color: #000000; text-decoration-color: #000000\">=</span><span style=\"color: #800080; text-decoration-color: #800080; font-weight: bold\">GroundingChunkRetrievedContext</span><span style=\"color: #000000; text-decoration-color: #000000; font-weight: bold\">(</span>\n",
              "<span style=\"color: #000000; text-decoration-color: #000000\">                            </span><span style=\"color: #808000; text-decoration-color: #808000\">text</span><span style=\"color: #000000; text-decoration-color: #000000\">=</span><span style=\"color: #008000; text-decoration-color: #008000\">'■ If the active period is substantial, a standard review might occur, focusing on</span>\n",
              "<span style=\"color: #008000; text-decoration-color: #008000\">that time.'</span><span style=\"color: #000000; text-decoration-color: #000000\">,</span>\n",
              "<span style=\"color: #000000; text-decoration-color: #000000\">                            </span><span style=\"color: #808000; text-decoration-color: #808000\">title</span><span style=\"color: #000000; text-decoration-color: #000000\">=</span><span style=\"color: #008000; text-decoration-color: #008000\">'performance-policy'</span><span style=\"color: #000000; text-decoration-color: #000000\">,</span>\n",
              "<span style=\"color: #000000; text-decoration-color: #000000\">                            </span><span style=\"color: #808000; text-decoration-color: #808000\">uri</span><span style=\"color: #000000; text-decoration-color: #000000\">=</span><span style=\"color: #008000; text-decoration-color: #008000\">'gs://2025-adk-workshop-policy/performance-policy.pdf'</span>\n",
              "<span style=\"color: #000000; text-decoration-color: #000000\">                        </span><span style=\"color: #000000; text-decoration-color: #000000; font-weight: bold\">)</span><span style=\"color: #000000; text-decoration-color: #000000\">,</span>\n",
              "<span style=\"color: #000000; text-decoration-color: #000000\">                        </span><span style=\"color: #808000; text-decoration-color: #808000\">web</span><span style=\"color: #000000; text-decoration-color: #000000\">=</span><span style=\"color: #800080; text-decoration-color: #800080; font-style: italic\">None</span>\n",
              "<span style=\"color: #000000; text-decoration-color: #000000\">                    </span><span style=\"color: #000000; text-decoration-color: #000000; font-weight: bold\">)</span>\n",
              "<span style=\"color: #000000; text-decoration-color: #000000\">                </span><span style=\"color: #000000; text-decoration-color: #000000; font-weight: bold\">]</span><span style=\"color: #000000; text-decoration-color: #000000\">,</span>\n",
              "<span style=\"color: #000000; text-decoration-color: #000000\">                </span><span style=\"color: #808000; text-decoration-color: #808000\">grounding_supports</span><span style=\"color: #000000; text-decoration-color: #000000\">=</span><span style=\"color: #000000; text-decoration-color: #000000; font-weight: bold\">[</span>\n",
              "<span style=\"color: #000000; text-decoration-color: #000000\">                    </span><span style=\"color: #800080; text-decoration-color: #800080; font-weight: bold\">GroundingSupport</span><span style=\"color: #000000; text-decoration-color: #000000; font-weight: bold\">(</span>\n",
              "<span style=\"color: #000000; text-decoration-color: #000000\">                        </span><span style=\"color: #808000; text-decoration-color: #808000\">confidence_scores</span><span style=\"color: #000000; text-decoration-color: #000000\">=</span><span style=\"color: #000000; text-decoration-color: #000000; font-weight: bold\">[</span><span style=\"color: #008080; text-decoration-color: #008080; font-weight: bold\">0.98975134</span><span style=\"color: #000000; text-decoration-color: #000000; font-weight: bold\">]</span><span style=\"color: #000000; text-decoration-color: #000000\">,</span>\n",
              "<span style=\"color: #000000; text-decoration-color: #000000\">                        </span><span style=\"color: #808000; text-decoration-color: #808000\">grounding_chunk_indices</span><span style=\"color: #000000; text-decoration-color: #000000\">=</span><span style=\"color: #000000; text-decoration-color: #000000; font-weight: bold\">[</span><span style=\"color: #008080; text-decoration-color: #008080; font-weight: bold\">0</span><span style=\"color: #000000; text-decoration-color: #000000; font-weight: bold\">]</span><span style=\"color: #000000; text-decoration-color: #000000\">,</span>\n",
              "<span style=\"color: #000000; text-decoration-color: #000000\">                        </span><span style=\"color: #808000; text-decoration-color: #808000\">segment</span><span style=\"color: #000000; text-decoration-color: #000000\">=</span><span style=\"color: #800080; text-decoration-color: #800080; font-weight: bold\">Segment</span><span style=\"color: #000000; text-decoration-color: #000000; font-weight: bold\">(</span>\n",
              "<span style=\"color: #000000; text-decoration-color: #000000\">                            </span><span style=\"color: #808000; text-decoration-color: #808000\">end_index</span><span style=\"color: #000000; text-decoration-color: #000000\">=</span><span style=\"color: #008080; text-decoration-color: #008080; font-weight: bold\">85</span><span style=\"color: #000000; text-decoration-color: #000000\">,</span>\n",
              "<span style=\"color: #000000; text-decoration-color: #000000\">                            </span><span style=\"color: #808000; text-decoration-color: #808000\">part_index</span><span style=\"color: #000000; text-decoration-color: #000000\">=</span><span style=\"color: #800080; text-decoration-color: #800080; font-style: italic\">None</span><span style=\"color: #000000; text-decoration-color: #000000\">,</span>\n",
              "<span style=\"color: #000000; text-decoration-color: #000000\">                            </span><span style=\"color: #808000; text-decoration-color: #808000\">start_index</span><span style=\"color: #000000; text-decoration-color: #000000\">=</span><span style=\"color: #800080; text-decoration-color: #800080; font-style: italic\">None</span><span style=\"color: #000000; text-decoration-color: #000000\">,</span>\n",
              "<span style=\"color: #000000; text-decoration-color: #000000\">                            </span><span style=\"color: #808000; text-decoration-color: #808000\">text</span><span style=\"color: #000000; text-decoration-color: #000000\">=</span><span style=\"color: #008000; text-decoration-color: #008000\">'You can start your maternity leave as early as 28 days before your expected due </span>\n",
              "<span style=\"color: #008000; text-decoration-color: #008000\">date.'</span>\n",
              "<span style=\"color: #000000; text-decoration-color: #000000\">                        </span><span style=\"color: #000000; text-decoration-color: #000000; font-weight: bold\">)</span>\n",
              "<span style=\"color: #000000; text-decoration-color: #000000\">                    </span><span style=\"color: #000000; text-decoration-color: #000000; font-weight: bold\">)</span><span style=\"color: #000000; text-decoration-color: #000000\">,</span>\n",
              "<span style=\"color: #000000; text-decoration-color: #000000\">                    </span><span style=\"color: #800080; text-decoration-color: #800080; font-weight: bold\">GroundingSupport</span><span style=\"color: #000000; text-decoration-color: #000000; font-weight: bold\">(</span>\n",
              "<span style=\"color: #000000; text-decoration-color: #000000\">                        </span><span style=\"color: #808000; text-decoration-color: #808000\">confidence_scores</span><span style=\"color: #000000; text-decoration-color: #000000\">=</span><span style=\"color: #000000; text-decoration-color: #000000; font-weight: bold\">[</span><span style=\"color: #008080; text-decoration-color: #008080; font-weight: bold\">0.99229574</span><span style=\"color: #000000; text-decoration-color: #000000; font-weight: bold\">]</span><span style=\"color: #000000; text-decoration-color: #000000\">,</span>\n",
              "<span style=\"color: #000000; text-decoration-color: #000000\">                        </span><span style=\"color: #808000; text-decoration-color: #808000\">grounding_chunk_indices</span><span style=\"color: #000000; text-decoration-color: #000000\">=</span><span style=\"color: #000000; text-decoration-color: #000000; font-weight: bold\">[</span><span style=\"color: #008080; text-decoration-color: #008080; font-weight: bold\">0</span><span style=\"color: #000000; text-decoration-color: #000000; font-weight: bold\">]</span><span style=\"color: #000000; text-decoration-color: #000000\">,</span>\n",
              "<span style=\"color: #000000; text-decoration-color: #000000\">                        </span><span style=\"color: #808000; text-decoration-color: #808000\">segment</span><span style=\"color: #000000; text-decoration-color: #000000\">=</span><span style=\"color: #800080; text-decoration-color: #800080; font-weight: bold\">Segment</span><span style=\"color: #000000; text-decoration-color: #000000; font-weight: bold\">(</span>\n",
              "<span style=\"color: #000000; text-decoration-color: #000000\">                            </span><span style=\"color: #808000; text-decoration-color: #808000\">end_index</span><span style=\"color: #000000; text-decoration-color: #000000\">=</span><span style=\"color: #008080; text-decoration-color: #008080; font-weight: bold\">174</span><span style=\"color: #000000; text-decoration-color: #000000\">,</span>\n",
              "<span style=\"color: #000000; text-decoration-color: #000000\">                            </span><span style=\"color: #808000; text-decoration-color: #808000\">part_index</span><span style=\"color: #000000; text-decoration-color: #000000\">=</span><span style=\"color: #800080; text-decoration-color: #800080; font-style: italic\">None</span><span style=\"color: #000000; text-decoration-color: #000000\">,</span>\n",
              "<span style=\"color: #000000; text-decoration-color: #000000\">                            </span><span style=\"color: #808000; text-decoration-color: #808000\">start_index</span><span style=\"color: #000000; text-decoration-color: #000000\">=</span><span style=\"color: #008080; text-decoration-color: #008080; font-weight: bold\">86</span><span style=\"color: #000000; text-decoration-color: #000000\">,</span>\n",
              "<span style=\"color: #000000; text-decoration-color: #000000\">                            </span><span style=\"color: #808000; text-decoration-color: #808000\">text</span><span style=\"color: #000000; text-decoration-color: #000000\">=</span><span style=\"color: #008000; text-decoration-color: #008000\">'If your baby is premature, your maternity leave will begin on the day your baby </span>\n",
              "<span style=\"color: #008000; text-decoration-color: #008000\">is born.'</span>\n",
              "<span style=\"color: #000000; text-decoration-color: #000000\">                        </span><span style=\"color: #000000; text-decoration-color: #000000; font-weight: bold\">)</span>\n",
              "<span style=\"color: #000000; text-decoration-color: #000000\">                    </span><span style=\"color: #000000; text-decoration-color: #000000; font-weight: bold\">)</span>\n",
              "<span style=\"color: #000000; text-decoration-color: #000000\">                </span><span style=\"color: #000000; text-decoration-color: #000000; font-weight: bold\">]</span><span style=\"color: #000000; text-decoration-color: #000000\">,</span>\n",
              "<span style=\"color: #000000; text-decoration-color: #000000\">                </span><span style=\"color: #808000; text-decoration-color: #808000\">retrieval_metadata</span><span style=\"color: #000000; text-decoration-color: #000000\">=</span><span style=\"color: #800080; text-decoration-color: #800080; font-style: italic\">None</span><span style=\"color: #000000; text-decoration-color: #000000\">,</span>\n",
              "<span style=\"color: #000000; text-decoration-color: #000000\">                </span><span style=\"color: #808000; text-decoration-color: #808000\">retrieval_queries</span><span style=\"color: #000000; text-decoration-color: #000000\">=</span><span style=\"color: #000000; text-decoration-color: #000000; font-weight: bold\">[</span><span style=\"color: #008000; text-decoration-color: #008000\">'When can I start taking maternity leave?'</span><span style=\"color: #000000; text-decoration-color: #000000; font-weight: bold\">]</span><span style=\"color: #000000; text-decoration-color: #000000\">,</span>\n",
              "<span style=\"color: #000000; text-decoration-color: #000000\">                </span><span style=\"color: #808000; text-decoration-color: #808000\">search_entry_point</span><span style=\"color: #000000; text-decoration-color: #000000\">=</span><span style=\"color: #800080; text-decoration-color: #800080; font-style: italic\">None</span><span style=\"color: #000000; text-decoration-color: #000000\">,</span>\n",
              "<span style=\"color: #000000; text-decoration-color: #000000\">                </span><span style=\"color: #808000; text-decoration-color: #808000\">web_search_queries</span><span style=\"color: #000000; text-decoration-color: #000000\">=</span><span style=\"color: #800080; text-decoration-color: #800080; font-style: italic\">None</span>\n",
              "<span style=\"color: #000000; text-decoration-color: #000000\">            </span><span style=\"color: #000000; text-decoration-color: #000000; font-weight: bold\">)</span><span style=\"color: #000000; text-decoration-color: #000000\">,</span>\n",
              "<span style=\"color: #000000; text-decoration-color: #000000\">            </span><span style=\"color: #808000; text-decoration-color: #808000\">index</span><span style=\"color: #000000; text-decoration-color: #000000\">=</span><span style=\"color: #800080; text-decoration-color: #800080; font-style: italic\">None</span><span style=\"color: #000000; text-decoration-color: #000000\">,</span>\n",
              "<span style=\"color: #000000; text-decoration-color: #000000\">            </span><span style=\"color: #808000; text-decoration-color: #808000\">logprobs_result</span><span style=\"color: #000000; text-decoration-color: #000000\">=</span><span style=\"color: #800080; text-decoration-color: #800080; font-style: italic\">None</span><span style=\"color: #000000; text-decoration-color: #000000\">,</span>\n",
              "<span style=\"color: #000000; text-decoration-color: #000000\">            </span><span style=\"color: #808000; text-decoration-color: #808000\">safety_ratings</span><span style=\"color: #000000; text-decoration-color: #000000\">=</span><span style=\"color: #800080; text-decoration-color: #800080; font-style: italic\">None</span>\n",
              "<span style=\"color: #000000; text-decoration-color: #000000\">        </span><span style=\"color: #000000; text-decoration-color: #000000; font-weight: bold\">)</span>\n",
              "<span style=\"color: #000000; text-decoration-color: #000000\">    </span><span style=\"color: #000000; text-decoration-color: #000000; font-weight: bold\">]</span><span style=\"color: #000000; text-decoration-color: #000000\">,</span>\n",
              "<span style=\"color: #000000; text-decoration-color: #000000\">    </span><span style=\"color: #808000; text-decoration-color: #808000\">create_time</span><span style=\"color: #000000; text-decoration-color: #000000\">=</span><span style=\"color: #800080; text-decoration-color: #800080; font-weight: bold\">datetime</span><span style=\"color: #800080; text-decoration-color: #800080; font-weight: bold\">.datetime</span><span style=\"color: #000000; text-decoration-color: #000000; font-weight: bold\">(</span><span style=\"color: #008080; text-decoration-color: #008080; font-weight: bold\">2025</span><span style=\"color: #000000; text-decoration-color: #000000\">, </span><span style=\"color: #008080; text-decoration-color: #008080; font-weight: bold\">5</span><span style=\"color: #000000; text-decoration-color: #000000\">, </span><span style=\"color: #008080; text-decoration-color: #008080; font-weight: bold\">7</span><span style=\"color: #000000; text-decoration-color: #000000\">, </span><span style=\"color: #008080; text-decoration-color: #008080; font-weight: bold\">7</span><span style=\"color: #000000; text-decoration-color: #000000\">, </span><span style=\"color: #008080; text-decoration-color: #008080; font-weight: bold\">20</span><span style=\"color: #000000; text-decoration-color: #000000\">, </span><span style=\"color: #008080; text-decoration-color: #008080; font-weight: bold\">9</span><span style=\"color: #000000; text-decoration-color: #000000\">, </span><span style=\"color: #008080; text-decoration-color: #008080; font-weight: bold\">442583</span><span style=\"color: #000000; text-decoration-color: #000000\">, </span><span style=\"color: #808000; text-decoration-color: #808000\">tzinfo</span><span style=\"color: #000000; text-decoration-color: #000000\">=</span><span style=\"color: #800080; text-decoration-color: #800080; font-weight: bold\">TzInfo</span><span style=\"color: #000000; text-decoration-color: #000000; font-weight: bold\">(</span><span style=\"color: #000000; text-decoration-color: #000000\">UTC</span><span style=\"color: #000000; text-decoration-color: #000000; font-weight: bold\">))</span><span style=\"color: #000000; text-decoration-color: #000000\">,</span>\n",
              "<span style=\"color: #000000; text-decoration-color: #000000\">    </span><span style=\"color: #808000; text-decoration-color: #808000\">response_id</span><span style=\"color: #000000; text-decoration-color: #000000\">=</span><span style=\"color: #008000; text-decoration-color: #008000\">'qQkbaNeBG5OBm9IPwtOUqQ0'</span><span style=\"color: #000000; text-decoration-color: #000000\">,</span>\n",
              "<span style=\"color: #000000; text-decoration-color: #000000\">    </span><span style=\"color: #808000; text-decoration-color: #808000\">model_version</span><span style=\"color: #000000; text-decoration-color: #000000\">=</span><span style=\"color: #008000; text-decoration-color: #008000\">'gemini-2.0-flash-001'</span><span style=\"color: #000000; text-decoration-color: #000000\">,</span>\n",
              "<span style=\"color: #000000; text-decoration-color: #000000\">    </span><span style=\"color: #808000; text-decoration-color: #808000\">prompt_feedback</span><span style=\"color: #000000; text-decoration-color: #000000\">=</span><span style=\"color: #800080; text-decoration-color: #800080; font-style: italic\">None</span><span style=\"color: #000000; text-decoration-color: #000000\">,</span>\n",
              "<span style=\"color: #000000; text-decoration-color: #000000\">    </span><span style=\"color: #808000; text-decoration-color: #808000\">usage_metadata</span><span style=\"color: #000000; text-decoration-color: #000000\">=</span><span style=\"color: #800080; text-decoration-color: #800080; font-weight: bold\">GenerateContentResponseUsageMetadata</span><span style=\"color: #000000; text-decoration-color: #000000; font-weight: bold\">(</span>\n",
              "<span style=\"color: #000000; text-decoration-color: #000000\">        </span><span style=\"color: #808000; text-decoration-color: #808000\">cache_tokens_details</span><span style=\"color: #000000; text-decoration-color: #000000\">=</span><span style=\"color: #800080; text-decoration-color: #800080; font-style: italic\">None</span><span style=\"color: #000000; text-decoration-color: #000000\">,</span>\n",
              "<span style=\"color: #000000; text-decoration-color: #000000\">        </span><span style=\"color: #808000; text-decoration-color: #808000\">cached_content_token_count</span><span style=\"color: #000000; text-decoration-color: #000000\">=</span><span style=\"color: #800080; text-decoration-color: #800080; font-style: italic\">None</span><span style=\"color: #000000; text-decoration-color: #000000\">,</span>\n",
              "<span style=\"color: #000000; text-decoration-color: #000000\">        </span><span style=\"color: #808000; text-decoration-color: #808000\">candidates_token_count</span><span style=\"color: #000000; text-decoration-color: #000000\">=</span><span style=\"color: #008080; text-decoration-color: #008080; font-weight: bold\">39</span><span style=\"color: #000000; text-decoration-color: #000000\">,</span>\n",
              "<span style=\"color: #000000; text-decoration-color: #000000\">        </span><span style=\"color: #808000; text-decoration-color: #808000\">candidates_tokens_details</span><span style=\"color: #000000; text-decoration-color: #000000\">=</span><span style=\"color: #000000; text-decoration-color: #000000; font-weight: bold\">[</span><span style=\"color: #800080; text-decoration-color: #800080; font-weight: bold\">ModalityTokenCount</span><span style=\"color: #000000; text-decoration-color: #000000; font-weight: bold\">(</span><span style=\"color: #808000; text-decoration-color: #808000\">modality</span><span style=\"color: #000000; text-decoration-color: #000000\">=&lt;MediaModality.TEXT: </span><span style=\"color: #008000; text-decoration-color: #008000\">'TEXT'</span><span style=\"color: #000000; text-decoration-color: #000000\">&gt;, </span><span style=\"color: #808000; text-decoration-color: #808000\">token_count</span><span style=\"color: #000000; text-decoration-color: #000000\">=</span><span style=\"color: #008080; text-decoration-color: #008080; font-weight: bold\">39</span><span style=\"color: #000000; text-decoration-color: #000000; font-weight: bold\">)]</span><span style=\"color: #000000; text-decoration-color: #000000\">,</span>\n",
              "<span style=\"color: #000000; text-decoration-color: #000000\">        </span><span style=\"color: #808000; text-decoration-color: #808000\">prompt_token_count</span><span style=\"color: #000000; text-decoration-color: #000000\">=</span><span style=\"color: #008080; text-decoration-color: #008080; font-weight: bold\">8</span><span style=\"color: #000000; text-decoration-color: #000000\">,</span>\n",
              "<span style=\"color: #000000; text-decoration-color: #000000\">        </span><span style=\"color: #808000; text-decoration-color: #808000\">prompt_tokens_details</span><span style=\"color: #000000; text-decoration-color: #000000\">=</span><span style=\"color: #000000; text-decoration-color: #000000; font-weight: bold\">[</span><span style=\"color: #800080; text-decoration-color: #800080; font-weight: bold\">ModalityTokenCount</span><span style=\"color: #000000; text-decoration-color: #000000; font-weight: bold\">(</span><span style=\"color: #808000; text-decoration-color: #808000\">modality</span><span style=\"color: #000000; text-decoration-color: #000000\">=&lt;MediaModality.TEXT: </span><span style=\"color: #008000; text-decoration-color: #008000\">'TEXT'</span><span style=\"color: #000000; text-decoration-color: #000000\">&gt;, </span><span style=\"color: #808000; text-decoration-color: #808000\">token_count</span><span style=\"color: #000000; text-decoration-color: #000000\">=</span><span style=\"color: #008080; text-decoration-color: #008080; font-weight: bold\">8</span><span style=\"color: #000000; text-decoration-color: #000000; font-weight: bold\">)]</span><span style=\"color: #000000; text-decoration-color: #000000\">,</span>\n",
              "<span style=\"color: #000000; text-decoration-color: #000000\">        </span><span style=\"color: #808000; text-decoration-color: #808000\">thoughts_token_count</span><span style=\"color: #000000; text-decoration-color: #000000\">=</span><span style=\"color: #800080; text-decoration-color: #800080; font-style: italic\">None</span><span style=\"color: #000000; text-decoration-color: #000000\">,</span>\n",
              "<span style=\"color: #000000; text-decoration-color: #000000\">        </span><span style=\"color: #808000; text-decoration-color: #808000\">tool_use_prompt_token_count</span><span style=\"color: #000000; text-decoration-color: #000000\">=</span><span style=\"color: #800080; text-decoration-color: #800080; font-style: italic\">None</span><span style=\"color: #000000; text-decoration-color: #000000\">,</span>\n",
              "<span style=\"color: #000000; text-decoration-color: #000000\">        </span><span style=\"color: #808000; text-decoration-color: #808000\">tool_use_prompt_tokens_details</span><span style=\"color: #000000; text-decoration-color: #000000\">=</span><span style=\"color: #800080; text-decoration-color: #800080; font-style: italic\">None</span><span style=\"color: #000000; text-decoration-color: #000000\">,</span>\n",
              "<span style=\"color: #000000; text-decoration-color: #000000\">        </span><span style=\"color: #808000; text-decoration-color: #808000\">total_token_count</span><span style=\"color: #000000; text-decoration-color: #000000\">=</span><span style=\"color: #008080; text-decoration-color: #008080; font-weight: bold\">47</span><span style=\"color: #000000; text-decoration-color: #000000\">,</span>\n",
              "<span style=\"color: #000000; text-decoration-color: #000000\">        </span><span style=\"color: #808000; text-decoration-color: #808000\">traffic_type</span><span style=\"color: #000000; text-decoration-color: #000000\">=&lt;TrafficType.ON_DEMAND: </span><span style=\"color: #008000; text-decoration-color: #008000\">'ON_DEMAND'</span><span style=\"font-weight: bold\">&gt;</span>\n",
              "    <span style=\"font-weight: bold\">)</span>,\n",
              "    <span style=\"color: #808000; text-decoration-color: #808000\">automatic_function_calling_history</span>=<span style=\"font-weight: bold\">[]</span>,\n",
              "    <span style=\"color: #808000; text-decoration-color: #808000\">parsed</span>=<span style=\"color: #800080; text-decoration-color: #800080; font-style: italic\">None</span>\n",
              "<span style=\"font-weight: bold\">)</span>\n",
              "</pre>\n"
            ],
            "text/plain": [
              "\u001b[1;35mGenerateContentResponse\u001b[0m\u001b[1m(\u001b[0m\n",
              "    \u001b[33mcandidates\u001b[0m=\u001b[1m[\u001b[0m\n",
              "        \u001b[1;35mCandidate\u001b[0m\u001b[1m(\u001b[0m\n",
              "            \u001b[33mcontent\u001b[0m=\u001b[1;35mContent\u001b[0m\u001b[1m(\u001b[0m\n",
              "                \u001b[33mparts\u001b[0m=\u001b[1m[\u001b[0m\n",
              "                    \u001b[1;35mPart\u001b[0m\u001b[1m(\u001b[0m\n",
              "                        \u001b[33mvideo_metadata\u001b[0m=\u001b[3;35mNone\u001b[0m,\n",
              "                        \u001b[33mthought\u001b[0m=\u001b[3;35mNone\u001b[0m,\n",
              "                        \u001b[33mcode_execution_result\u001b[0m=\u001b[3;35mNone\u001b[0m,\n",
              "                        \u001b[33mexecutable_code\u001b[0m=\u001b[3;35mNone\u001b[0m,\n",
              "                        \u001b[33mfile_data\u001b[0m=\u001b[3;35mNone\u001b[0m,\n",
              "                        \u001b[33mfunction_call\u001b[0m=\u001b[3;35mNone\u001b[0m,\n",
              "                        \u001b[33mfunction_response\u001b[0m=\u001b[3;35mNone\u001b[0m,\n",
              "                        \u001b[33minline_data\u001b[0m=\u001b[3;35mNone\u001b[0m,\n",
              "                        \u001b[33mtext\u001b[0m=\u001b[32m'You can start your maternity leave as early as 28 days before your expected due date.\u001b[0m\n",
              "\u001b[32mIf your baby is premature, your maternity leave will begin on the day your baby is born.\\n'\u001b[0m\n",
              "                    \u001b[1m)\u001b[0m\n",
              "                \u001b[1m]\u001b[0m,\n",
              "                \u001b[33mrole\u001b[0m=\u001b[32m'model'\u001b[0m\n",
              "            \u001b[1m)\u001b[0m,\n",
              "            \u001b[33mcitation_metadata\u001b[0m=\u001b[3;35mNone\u001b[0m,\n",
              "            \u001b[33mfinish_message\u001b[0m=\u001b[3;35mNone\u001b[0m,\n",
              "            \u001b[33mtoken_count\u001b[0m=\u001b[3;35mNone\u001b[0m,\n",
              "            \u001b[33mfinish_reason\u001b[0m=\u001b[1m<\u001b[0m\u001b[1;95mFinishReason.STOP:\u001b[0m\u001b[39m \u001b[0m\u001b[32m'STOP'\u001b[0m\u001b[39m>,\u001b[0m\n",
              "\u001b[39m            \u001b[0m\u001b[33mavg_logprobs\u001b[0m\u001b[39m=\u001b[0m\u001b[1;36m-0.011928290892869998\u001b[0m\u001b[39m,\u001b[0m\n",
              "\u001b[39m            \u001b[0m\u001b[33mgrounding_metadata\u001b[0m\u001b[39m=\u001b[0m\u001b[1;35mGroundingMetadata\u001b[0m\u001b[1;39m(\u001b[0m\n",
              "\u001b[39m                \u001b[0m\u001b[33mgrounding_chunks\u001b[0m\u001b[39m=\u001b[0m\u001b[1;39m[\u001b[0m\n",
              "\u001b[39m                    \u001b[0m\u001b[1;35mGroundingChunk\u001b[0m\u001b[1;39m(\u001b[0m\n",
              "\u001b[39m                        \u001b[0m\u001b[33mretrieved_context\u001b[0m\u001b[39m=\u001b[0m\u001b[1;35mGroundingChunkRetrievedContext\u001b[0m\u001b[1;39m(\u001b[0m\n",
              "\u001b[39m                            \u001b[0m\u001b[33mtext\u001b[0m\u001b[39m=\u001b[0m\u001b[32m'11. When can I start my maternity leave? A: The earliest you can start your leave\u001b[0m\n",
              "\u001b[32mis <b>28 days before your expected due date</b>. If your baby is premature, your maternity leave will begin on the \u001b[0m\n",
              "\u001b[32mday your baby is born. 12.'\u001b[0m\u001b[39m,\u001b[0m\n",
              "\u001b[39m                            \u001b[0m\u001b[33mtitle\u001b[0m\u001b[39m=\u001b[0m\u001b[32m'timeoff-policy'\u001b[0m\u001b[39m,\u001b[0m\n",
              "\u001b[39m                            \u001b[0m\u001b[33muri\u001b[0m\u001b[39m=\u001b[0m\u001b[32m'gs://2025-adk-workshop-policy/timeoff-policy.pdf'\u001b[0m\n",
              "\u001b[39m                        \u001b[0m\u001b[1;39m)\u001b[0m\u001b[39m,\u001b[0m\n",
              "\u001b[39m                        \u001b[0m\u001b[33mweb\u001b[0m\u001b[39m=\u001b[0m\u001b[3;35mNone\u001b[0m\n",
              "\u001b[39m                    \u001b[0m\u001b[1;39m)\u001b[0m\u001b[39m,\u001b[0m\n",
              "\u001b[39m                    \u001b[0m\u001b[1;35mGroundingChunk\u001b[0m\u001b[1;39m(\u001b[0m\n",
              "\u001b[39m                        \u001b[0m\u001b[33mretrieved_context\u001b[0m\u001b[39m=\u001b[0m\u001b[1;35mGroundingChunkRetrievedContext\u001b[0m\u001b[1;39m(\u001b[0m\n",
              "\u001b[39m                            \u001b[0m\u001b[33mtext\u001b[0m\u001b[39m=\u001b[0m\u001b[32m'■ If the active period is substantial, a standard review might occur, focusing on\u001b[0m\n",
              "\u001b[32mthat time.'\u001b[0m\u001b[39m,\u001b[0m\n",
              "\u001b[39m                            \u001b[0m\u001b[33mtitle\u001b[0m\u001b[39m=\u001b[0m\u001b[32m'performance-policy'\u001b[0m\u001b[39m,\u001b[0m\n",
              "\u001b[39m                            \u001b[0m\u001b[33muri\u001b[0m\u001b[39m=\u001b[0m\u001b[32m'gs://2025-adk-workshop-policy/performance-policy.pdf'\u001b[0m\n",
              "\u001b[39m                        \u001b[0m\u001b[1;39m)\u001b[0m\u001b[39m,\u001b[0m\n",
              "\u001b[39m                        \u001b[0m\u001b[33mweb\u001b[0m\u001b[39m=\u001b[0m\u001b[3;35mNone\u001b[0m\n",
              "\u001b[39m                    \u001b[0m\u001b[1;39m)\u001b[0m\n",
              "\u001b[39m                \u001b[0m\u001b[1;39m]\u001b[0m\u001b[39m,\u001b[0m\n",
              "\u001b[39m                \u001b[0m\u001b[33mgrounding_supports\u001b[0m\u001b[39m=\u001b[0m\u001b[1;39m[\u001b[0m\n",
              "\u001b[39m                    \u001b[0m\u001b[1;35mGroundingSupport\u001b[0m\u001b[1;39m(\u001b[0m\n",
              "\u001b[39m                        \u001b[0m\u001b[33mconfidence_scores\u001b[0m\u001b[39m=\u001b[0m\u001b[1;39m[\u001b[0m\u001b[1;36m0.98975134\u001b[0m\u001b[1;39m]\u001b[0m\u001b[39m,\u001b[0m\n",
              "\u001b[39m                        \u001b[0m\u001b[33mgrounding_chunk_indices\u001b[0m\u001b[39m=\u001b[0m\u001b[1;39m[\u001b[0m\u001b[1;36m0\u001b[0m\u001b[1;39m]\u001b[0m\u001b[39m,\u001b[0m\n",
              "\u001b[39m                        \u001b[0m\u001b[33msegment\u001b[0m\u001b[39m=\u001b[0m\u001b[1;35mSegment\u001b[0m\u001b[1;39m(\u001b[0m\n",
              "\u001b[39m                            \u001b[0m\u001b[33mend_index\u001b[0m\u001b[39m=\u001b[0m\u001b[1;36m85\u001b[0m\u001b[39m,\u001b[0m\n",
              "\u001b[39m                            \u001b[0m\u001b[33mpart_index\u001b[0m\u001b[39m=\u001b[0m\u001b[3;35mNone\u001b[0m\u001b[39m,\u001b[0m\n",
              "\u001b[39m                            \u001b[0m\u001b[33mstart_index\u001b[0m\u001b[39m=\u001b[0m\u001b[3;35mNone\u001b[0m\u001b[39m,\u001b[0m\n",
              "\u001b[39m                            \u001b[0m\u001b[33mtext\u001b[0m\u001b[39m=\u001b[0m\u001b[32m'You can start your maternity leave as early as 28 days before your expected due \u001b[0m\n",
              "\u001b[32mdate.'\u001b[0m\n",
              "\u001b[39m                        \u001b[0m\u001b[1;39m)\u001b[0m\n",
              "\u001b[39m                    \u001b[0m\u001b[1;39m)\u001b[0m\u001b[39m,\u001b[0m\n",
              "\u001b[39m                    \u001b[0m\u001b[1;35mGroundingSupport\u001b[0m\u001b[1;39m(\u001b[0m\n",
              "\u001b[39m                        \u001b[0m\u001b[33mconfidence_scores\u001b[0m\u001b[39m=\u001b[0m\u001b[1;39m[\u001b[0m\u001b[1;36m0.99229574\u001b[0m\u001b[1;39m]\u001b[0m\u001b[39m,\u001b[0m\n",
              "\u001b[39m                        \u001b[0m\u001b[33mgrounding_chunk_indices\u001b[0m\u001b[39m=\u001b[0m\u001b[1;39m[\u001b[0m\u001b[1;36m0\u001b[0m\u001b[1;39m]\u001b[0m\u001b[39m,\u001b[0m\n",
              "\u001b[39m                        \u001b[0m\u001b[33msegment\u001b[0m\u001b[39m=\u001b[0m\u001b[1;35mSegment\u001b[0m\u001b[1;39m(\u001b[0m\n",
              "\u001b[39m                            \u001b[0m\u001b[33mend_index\u001b[0m\u001b[39m=\u001b[0m\u001b[1;36m174\u001b[0m\u001b[39m,\u001b[0m\n",
              "\u001b[39m                            \u001b[0m\u001b[33mpart_index\u001b[0m\u001b[39m=\u001b[0m\u001b[3;35mNone\u001b[0m\u001b[39m,\u001b[0m\n",
              "\u001b[39m                            \u001b[0m\u001b[33mstart_index\u001b[0m\u001b[39m=\u001b[0m\u001b[1;36m86\u001b[0m\u001b[39m,\u001b[0m\n",
              "\u001b[39m                            \u001b[0m\u001b[33mtext\u001b[0m\u001b[39m=\u001b[0m\u001b[32m'If your baby is premature, your maternity leave will begin on the day your baby \u001b[0m\n",
              "\u001b[32mis born.'\u001b[0m\n",
              "\u001b[39m                        \u001b[0m\u001b[1;39m)\u001b[0m\n",
              "\u001b[39m                    \u001b[0m\u001b[1;39m)\u001b[0m\n",
              "\u001b[39m                \u001b[0m\u001b[1;39m]\u001b[0m\u001b[39m,\u001b[0m\n",
              "\u001b[39m                \u001b[0m\u001b[33mretrieval_metadata\u001b[0m\u001b[39m=\u001b[0m\u001b[3;35mNone\u001b[0m\u001b[39m,\u001b[0m\n",
              "\u001b[39m                \u001b[0m\u001b[33mretrieval_queries\u001b[0m\u001b[39m=\u001b[0m\u001b[1;39m[\u001b[0m\u001b[32m'When can I start taking maternity leave?'\u001b[0m\u001b[1;39m]\u001b[0m\u001b[39m,\u001b[0m\n",
              "\u001b[39m                \u001b[0m\u001b[33msearch_entry_point\u001b[0m\u001b[39m=\u001b[0m\u001b[3;35mNone\u001b[0m\u001b[39m,\u001b[0m\n",
              "\u001b[39m                \u001b[0m\u001b[33mweb_search_queries\u001b[0m\u001b[39m=\u001b[0m\u001b[3;35mNone\u001b[0m\n",
              "\u001b[39m            \u001b[0m\u001b[1;39m)\u001b[0m\u001b[39m,\u001b[0m\n",
              "\u001b[39m            \u001b[0m\u001b[33mindex\u001b[0m\u001b[39m=\u001b[0m\u001b[3;35mNone\u001b[0m\u001b[39m,\u001b[0m\n",
              "\u001b[39m            \u001b[0m\u001b[33mlogprobs_result\u001b[0m\u001b[39m=\u001b[0m\u001b[3;35mNone\u001b[0m\u001b[39m,\u001b[0m\n",
              "\u001b[39m            \u001b[0m\u001b[33msafety_ratings\u001b[0m\u001b[39m=\u001b[0m\u001b[3;35mNone\u001b[0m\n",
              "\u001b[39m        \u001b[0m\u001b[1;39m)\u001b[0m\n",
              "\u001b[39m    \u001b[0m\u001b[1;39m]\u001b[0m\u001b[39m,\u001b[0m\n",
              "\u001b[39m    \u001b[0m\u001b[33mcreate_time\u001b[0m\u001b[39m=\u001b[0m\u001b[1;35mdatetime\u001b[0m\u001b[1;35m.datetime\u001b[0m\u001b[1;39m(\u001b[0m\u001b[1;36m2025\u001b[0m\u001b[39m, \u001b[0m\u001b[1;36m5\u001b[0m\u001b[39m, \u001b[0m\u001b[1;36m7\u001b[0m\u001b[39m, \u001b[0m\u001b[1;36m7\u001b[0m\u001b[39m, \u001b[0m\u001b[1;36m20\u001b[0m\u001b[39m, \u001b[0m\u001b[1;36m9\u001b[0m\u001b[39m, \u001b[0m\u001b[1;36m442583\u001b[0m\u001b[39m, \u001b[0m\u001b[33mtzinfo\u001b[0m\u001b[39m=\u001b[0m\u001b[1;35mTzInfo\u001b[0m\u001b[1;39m(\u001b[0m\u001b[39mUTC\u001b[0m\u001b[1;39m)\u001b[0m\u001b[1;39m)\u001b[0m\u001b[39m,\u001b[0m\n",
              "\u001b[39m    \u001b[0m\u001b[33mresponse_id\u001b[0m\u001b[39m=\u001b[0m\u001b[32m'qQkbaNeBG5OBm9IPwtOUqQ0'\u001b[0m\u001b[39m,\u001b[0m\n",
              "\u001b[39m    \u001b[0m\u001b[33mmodel_version\u001b[0m\u001b[39m=\u001b[0m\u001b[32m'gemini-2.0-flash-001'\u001b[0m\u001b[39m,\u001b[0m\n",
              "\u001b[39m    \u001b[0m\u001b[33mprompt_feedback\u001b[0m\u001b[39m=\u001b[0m\u001b[3;35mNone\u001b[0m\u001b[39m,\u001b[0m\n",
              "\u001b[39m    \u001b[0m\u001b[33musage_metadata\u001b[0m\u001b[39m=\u001b[0m\u001b[1;35mGenerateContentResponseUsageMetadata\u001b[0m\u001b[1;39m(\u001b[0m\n",
              "\u001b[39m        \u001b[0m\u001b[33mcache_tokens_details\u001b[0m\u001b[39m=\u001b[0m\u001b[3;35mNone\u001b[0m\u001b[39m,\u001b[0m\n",
              "\u001b[39m        \u001b[0m\u001b[33mcached_content_token_count\u001b[0m\u001b[39m=\u001b[0m\u001b[3;35mNone\u001b[0m\u001b[39m,\u001b[0m\n",
              "\u001b[39m        \u001b[0m\u001b[33mcandidates_token_count\u001b[0m\u001b[39m=\u001b[0m\u001b[1;36m39\u001b[0m\u001b[39m,\u001b[0m\n",
              "\u001b[39m        \u001b[0m\u001b[33mcandidates_tokens_details\u001b[0m\u001b[39m=\u001b[0m\u001b[1;39m[\u001b[0m\u001b[1;35mModalityTokenCount\u001b[0m\u001b[1;39m(\u001b[0m\u001b[33mmodality\u001b[0m\u001b[39m=<MediaModality.TEXT: \u001b[0m\u001b[32m'TEXT'\u001b[0m\u001b[39m>, \u001b[0m\u001b[33mtoken_count\u001b[0m\u001b[39m=\u001b[0m\u001b[1;36m39\u001b[0m\u001b[1;39m)\u001b[0m\u001b[1;39m]\u001b[0m\u001b[39m,\u001b[0m\n",
              "\u001b[39m        \u001b[0m\u001b[33mprompt_token_count\u001b[0m\u001b[39m=\u001b[0m\u001b[1;36m8\u001b[0m\u001b[39m,\u001b[0m\n",
              "\u001b[39m        \u001b[0m\u001b[33mprompt_tokens_details\u001b[0m\u001b[39m=\u001b[0m\u001b[1;39m[\u001b[0m\u001b[1;35mModalityTokenCount\u001b[0m\u001b[1;39m(\u001b[0m\u001b[33mmodality\u001b[0m\u001b[39m=<MediaModality.TEXT: \u001b[0m\u001b[32m'TEXT'\u001b[0m\u001b[39m>, \u001b[0m\u001b[33mtoken_count\u001b[0m\u001b[39m=\u001b[0m\u001b[1;36m8\u001b[0m\u001b[1;39m)\u001b[0m\u001b[1;39m]\u001b[0m\u001b[39m,\u001b[0m\n",
              "\u001b[39m        \u001b[0m\u001b[33mthoughts_token_count\u001b[0m\u001b[39m=\u001b[0m\u001b[3;35mNone\u001b[0m\u001b[39m,\u001b[0m\n",
              "\u001b[39m        \u001b[0m\u001b[33mtool_use_prompt_token_count\u001b[0m\u001b[39m=\u001b[0m\u001b[3;35mNone\u001b[0m\u001b[39m,\u001b[0m\n",
              "\u001b[39m        \u001b[0m\u001b[33mtool_use_prompt_tokens_details\u001b[0m\u001b[39m=\u001b[0m\u001b[3;35mNone\u001b[0m\u001b[39m,\u001b[0m\n",
              "\u001b[39m        \u001b[0m\u001b[33mtotal_token_count\u001b[0m\u001b[39m=\u001b[0m\u001b[1;36m47\u001b[0m\u001b[39m,\u001b[0m\n",
              "\u001b[39m        \u001b[0m\u001b[33mtraffic_type\u001b[0m\u001b[39m=<TrafficType.ON_DEMAND: \u001b[0m\u001b[32m'ON_DEMAND'\u001b[0m\u001b[1m>\u001b[0m\n",
              "    \u001b[1m)\u001b[0m,\n",
              "    \u001b[33mautomatic_function_calling_history\u001b[0m=\u001b[1m[\u001b[0m\u001b[1m]\u001b[0m,\n",
              "    \u001b[33mparsed\u001b[0m=\u001b[3;35mNone\u001b[0m\n",
              "\u001b[1m)\u001b[0m\n"
            ]
          },
          "metadata": {},
          "output_type": "display_data"
        }
      ],
      "source": [
        "\n",
        "PROJECT_ID = \"hello-world-418507\"\n",
        "LOCATION = \"us-central1\"\n",
        "MODEL_ID = \"gemini-2.0-flash-001\"\n",
        "RETRIEVAL_QUERY = \"When can i start taking maternity leave?\"\n",
        "\n",
        "\n",
        "client = genai.Client(vertexai=True, project=PROJECT_ID, location=LOCATION)\n",
        "\n",
        "rag_resource = rag.RagResource(\n",
        "    rag_corpus=CORPUS_NAME,\n",
        ")\n",
        "\n",
        "vertex_ai_search_tool = Tool(\n",
        "    retrieval=Retrieval(vertex_rag_store=VertexRagStore(rag_resources=[rag_resource]))\n",
        ")\n",
        "\n",
        "response = client.models.generate_content(\n",
        "    model=MODEL_ID,\n",
        "    contents=RETRIEVAL_QUERY,\n",
        "    config=GenerateContentConfig(tools=[vertex_ai_search_tool]),\n",
        ")\n",
        "\n",
        "rich_print(response)\n"
      ]
    },
    {
      "cell_type": "markdown",
      "metadata": {
        "id": "2a4e033321ad"
      },
      "source": [
        "## Cleaning up\n",
        "\n",
        "Clean up RAG resources created in this notebook."
      ]
    },
    {
      "cell_type": "code",
      "execution_count": 31,
      "metadata": {
        "id": "a105caffd9e7"
      },
      "outputs": [],
      "source": [
        "# rag.delete_corpus(name=CORPUS_NAME)"
      ]
    },
    {
      "cell_type": "code",
      "execution_count": null,
      "metadata": {},
      "outputs": [],
      "source": []
    }
  ],
  "metadata": {
    "colab": {
      "name": "rag_engine_vertex_ai_search.ipynb",
      "toc_visible": true
    },
    "kernelspec": {
      "display_name": ".venv",
      "language": "python",
      "name": "python3"
    },
    "language_info": {
      "codemirror_mode": {
        "name": "ipython",
        "version": 3
      },
      "file_extension": ".py",
      "mimetype": "text/x-python",
      "name": "python",
      "nbconvert_exporter": "python",
      "pygments_lexer": "ipython3",
      "version": "3.11.11"
    }
  },
  "nbformat": 4,
  "nbformat_minor": 0
}
